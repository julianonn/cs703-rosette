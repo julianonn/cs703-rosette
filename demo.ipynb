{
 "cells": [
  {
   "cell_type": "markdown",
   "metadata": {
    "vscode": {
     "languageId": "plaintext"
    }
   },
   "source": [
    "# Demo - Constraint Based Synthesis\n",
    "\n",
    "Dependencies\n",
    "<!-- - OPTIONAL: [Docker](https://www.docker.com/) -->\n",
    "- Python 3ish\n",
    "- [Jupyter](https://jupyter.org/)\n",
    "- [Racket](https://racket-lang.org/)\n",
    "- [Rosette](https://docs.racket-lang.org/rosette-guide/index.html): constraint based solver based on racket\n",
    "\n",
    "Setup (No Docker)\n",
    "1. Download & install [Racket](https://racket-lang.org/), add to path\n",
    "2. Run:\n",
    "    ```sh\n",
    "    # optional but recommended: virtualenv\n",
    "    python3 -m venv .venv\n",
    "    source .venv/bin/activate\n",
    "    pip install -r requirements.txt  # this installs jupyter\n",
    "\n",
    "    # install rosette\n",
    "    raco pkg install rosette\n",
    "\n",
    "    jupyter notebook\n",
    "    ```\n",
    "3. Change environment variables at the top of your target notebook as required, as you may need to add racket to the venv path manually"
   ]
  },
  {
   "cell_type": "code",
   "execution_count": null,
   "metadata": {},
   "outputs": [],
   "source": [
    "# Julia -- this is for my machine\n",
    "import os\n",
    "\n",
    "# Add /Applications/Racket v8.16/bin to PATH\n",
    "os.environ['PATH'] = '/Applications/Racket v8.16/bin:$PATH'\n",
    "os.environ['DYLD_LIBRARY_PATH'] = '/opt/homebrew/lib:$DYLD_LIBRARY_PATH'"
   ]
  },
  {
   "cell_type": "markdown",
   "metadata": {},
   "source": [
    "# Example 1\n",
    "## _Linear Function Synthesis from Examples_\n",
    "\n",
    "Find a function of the form $f(x) = Ax + B$ that satisfies the following examples: \n",
    "- $f(1) = 5$\n",
    "- $f(2) = 7$\n",
    "- $f(3) = 9$\n",
    "- $f(4) = 11$\n",
    "\n",
    "---\n",
    "```racket\n",
    "#lang rosette\n",
    "(require rosette/lib/synthax) ; the package containing `synthesis` syntax\n",
    "\n",
    "; Define a function `f(x) = Ax + B`, with unknown coefficients `A` and `B` as `??`\n",
    "(define (f x)\n",
    "  (+ (* (?? integer?) x) (?? integer?)))  ; `??` means a hole in the program\n",
    "\n",
    "; Examples (x . y), meaning f(x) = y\n",
    "(define examples\n",
    "  `((1 . 5)  (2 . 7)  (3 . 9)  (4 . 11)))\n",
    "\n",
    "; Synthesis constraint: f(x) must match expected output\n",
    "(define sol\n",
    "  (synthesize\n",
    "   #:forall (list)\n",
    "   #:guarantee\n",
    "   (begin\n",
    "     (for/list ([pair examples])\n",
    "       (assert (= (f (car pair)) (cdr pair))))))) ; for every pair (x, y) in `examples` assert f(x) = y\n",
    "\n",
    "(print-forms sol)\n",
    "```\n"
   ]
  },
  {
   "cell_type": "code",
   "execution_count": null,
   "metadata": {
    "vscode": {
     "languageId": "shellscript"
    }
   },
   "outputs": [],
   "source": [
    "!racket racket/linear-func-synth.rkt"
   ]
  },
  {
   "cell_type": "markdown",
   "metadata": {},
   "source": [
    "__Example 1 - Result:__   $f(x) = 2x + 3$"
   ]
  },
  {
   "cell_type": "code",
   "execution_count": null,
   "metadata": {
    "vscode": {
     "languageId": "shellscript"
    }
   },
   "outputs": [],
   "source": [
    "# Example 1 -- Verbose Mode\n",
    "!racket racket/linear-func-synth-VERBOSE.rkt"
   ]
  },
  {
   "cell_type": "markdown",
   "metadata": {},
   "source": [
    "---\n",
    "---\n",
    "\n",
    "# Example 2 \n",
    "\n",
    "Let's make this slightly more complicated and create a DSL (domain-specific language) for arithmetic over integers that includes addition, multiplication, and squaring.\n",
    "\n",
    "--- \n",
    "\n",
    "```racket\n",
    "#lang rosette\n",
    "\n",
    "(require rosette/lib/synthax) ; the package containing `synthesis` syntax\n",
    "(require rosette/lib/destruct)\n",
    "\n",
    "; Let's define a simple grammar for arithmetic expressions over integers\n",
    "; with addition,  multiplication, and squaring\n",
    "(struct Add  (left right) #:transparent)\n",
    "(struct Mult (left right) #:transparent)\n",
    "(struct Square (arg) #:transparent)\n",
    "\n",
    "(define (interpret expr)\n",
    "  (destruct expr\n",
    "    [(Add a b)    (+ (interpret a) (interpret b))]\n",
    "    [(Mult a b)   (* (interpret a) (interpret b))]\n",
    "    [(Square a)   (expt (interpret a) 2)]\n",
    "    [_ expr]))\n",
    "\n",
    "\n",
    "; Define a function `f(x) = Ax + B`, with unknown coefficients `A` and `B` as `??`\n",
    "(define (f x)\n",
    "  (Add (Mult (?? integer?) x) (?? integer?)))  ; `??` means a hole in the program\n",
    "\n",
    "; Examples (x . y), meaning f(x) = y\n",
    "(define examples\n",
    "  `((1 . 5)  (2 . 7)  (3 . 9)  (4 . 11)))\n",
    "\n",
    "; Synthesis constraint: f(x) must match expected output\n",
    "(define sol\n",
    "  (synthesize\n",
    "   #:forall (list)\n",
    "   #:guarantee\n",
    "   (begin\n",
    "     (for/list ([pair examples])\n",
    "       (assert (= (interpret (f (car pair))) (cdr pair)))))))  ; for every pair (x, y) in `examples` assert f(x) = y\n",
    "\n",
    "(print-forms sol)\n",
    "```\n"
   ]
  },
  {
   "cell_type": "code",
   "execution_count": null,
   "metadata": {
    "vscode": {
     "languageId": "shellscript"
    }
   },
   "outputs": [],
   "source": [
    "!racket racket/arith-dsl-1.rkt"
   ]
  },
  {
   "cell_type": "markdown",
   "metadata": {},
   "source": [
    "__Example 2 - Result:__   $f(x) = 2x + 3$"
   ]
  },
  {
   "cell_type": "code",
   "execution_count": null,
   "metadata": {
    "vscode": {
     "languageId": "shellscript"
    }
   },
   "outputs": [],
   "source": [
    "# Example 2 -- Verbose Mode\n",
    "!racket racket/arith-dsl-1-VERBOSE.rkt"
   ]
  },
  {
   "cell_type": "markdown",
   "metadata": {},
   "source": [
    "---\n",
    "---\n",
    "\n",
    "# Example 3\n",
    "\n",
    "Using the same DSL, synthesize a quadratic expression of the form $Ax^2 + B$ from examples $f(2) = 9, f(3) = 19$.\n",
    "\n",
    "\n",
    "---\n",
    "\n",
    "```racket\n",
    "; ... [same DSL code] ...\n",
    "\n",
    "; Define a function f(x) = A * x^2 + B\n",
    "(define (f x) (Add (Mult (?? integer?) (Square x)) (?? integer?))) \n",
    "\n",
    "; Examples (x . y), meaning f(x) = y\n",
    "(define examples\n",
    "  `((1 . 5) (2 . 9)  (3 . 19)))\n",
    "\n",
    "; ...\n",
    "```"
   ]
  },
  {
   "cell_type": "code",
   "execution_count": null,
   "metadata": {
    "vscode": {
     "languageId": "shellscript"
    }
   },
   "outputs": [],
   "source": [
    "!racket racket/arith-dsl-2.rkt"
   ]
  },
  {
   "cell_type": "markdown",
   "metadata": {
    "vscode": {
     "languageId": "shellscript"
    }
   },
   "source": [
    "__Example 3 - Result__: $f(x) = 2x^2 + 1$"
   ]
  },
  {
   "cell_type": "code",
   "execution_count": null,
   "metadata": {
    "vscode": {
     "languageId": "shellscript"
    }
   },
   "outputs": [],
   "source": [
    "# Example 3 -- Verbose mode\n",
    "!racket racket/arith-dsl-2-VERBOSE.rkt"
   ]
  },
  {
   "cell_type": "markdown",
   "metadata": {},
   "source": [
    "---\n",
    "--- \n",
    "\n",
    "# Example 4\n",
    "\n",
    "Let's experiment with more complicated **sketching**. In previous examples, we synthesized functions of a certain forms (i.e. $f(x) = Ax + ...$), but since we defined this form explicitly for the solver, we only _really_  synthesized integer coefficients.\n",
    "\n",
    "Before, we used `??` to represent integer \"holes\" that the solver should synthesize. \n",
    "\n",
    "Here we define a custom \"hole\" `??expr` to represent unknown arithmetic expressions of the following forms:\n",
    "\n",
    "- $a + b$, $a*b$, $a$,  for some integer terminals $a, b$.\n",
    "- _Note:_  this doesn't currently include $a + (a + b)$ and $a^2$\n",
    "\n",
    "\n",
    "**Task:** Find two expressions $f, g$ such that $f + g = 10x$\n",
    "\n",
    "\n",
    "\n",
    "\n",
    "---\n",
    "\n",
    "```racket\n",
    "; ... [same DSL code] ...\n",
    "\n",
    "; In order to do `sketching`, we need to define constraints on an unknown expression `??expr` that we want to synthesize\n",
    "\n",
    "(define (??expr terminals)\n",
    "  (define l (apply choose* terminals))       ; given a list of args, `choose*` returns a value that can evaluate to any of them\n",
    "  (define r (apply choose* terminals))       \n",
    "  (choose* (Add l r) (Mult l r) l))\n",
    "\n",
    ";  For instance, `??expr (list 2 x))` could return (Add 2 x), (Mult 2 x),  2, or x\n",
    "\n",
    "\n",
    "; Use sketching to synthesize an expression of the form `f + g` equal to `10x`\n",
    "(define-symbolic x c1 c2 integer?)  \n",
    "(define sketch (Add (??expr (list x c1 c2)) (??expr (list x c1 c2))))\n",
    "\n",
    "(define M      ; model\n",
    "  (synthesize\n",
    "    #:forall (list x)\n",
    "    #:guarantee (assert (= (interpret sketch)\n",
    "                           (interpret (Mult 10 x))))))\n",
    "(evaluate sketch M)\n",
    "\n",
    "```"
   ]
  },
  {
   "cell_type": "code",
   "execution_count": null,
   "metadata": {
    "vscode": {
     "languageId": "shellscript"
    }
   },
   "outputs": [],
   "source": [
    "!racket racket/arith-dsl-sketch.rkt"
   ]
  },
  {
   "cell_type": "markdown",
   "metadata": {},
   "source": [
    "__Example 4 - Result:__ \n",
    "\n",
    "$f := 15x,~ g := -5x ~\\longrightarrow~ 15x + -5x = 10x$\n",
    "\n",
    "&nbsp;\n",
    "\n",
    "Bonus: the result changes if we change the order of the `choose*` statements in the source code."
   ]
  },
  {
   "cell_type": "code",
   "execution_count": null,
   "metadata": {
    "vscode": {
     "languageId": "shellscript"
    }
   },
   "outputs": [],
   "source": [
    "# Example 4 -- Verbose mode\n",
    "!racket racket/arith-dsl-sketch-VERBOSE.rkt"
   ]
  }
 ],
 "metadata": {
  "kernelspec": {
   "display_name": ".venv",
   "language": "python",
   "name": "python3"
  },
  "language_info": {
   "codemirror_mode": {
    "name": "ipython",
    "version": 3
   },
   "file_extension": ".py",
   "mimetype": "text/x-python",
   "name": "python",
   "nbconvert_exporter": "python",
   "pygments_lexer": "ipython3",
   "version": "3.13.0"
  }
 },
 "nbformat": 4,
 "nbformat_minor": 2
}
