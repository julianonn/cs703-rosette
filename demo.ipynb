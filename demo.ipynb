{
 "cells": [
  {
   "cell_type": "markdown",
   "metadata": {
    "vscode": {
     "languageId": "plaintext"
    }
   },
   "source": [
    "# Demo - Constraint Based Synthesis\n",
    "\n",
    "Dependencies\n",
    "<!-- - OPTIONAL: [Docker](https://www.docker.com/) -->\n",
    "- Python 3ish\n",
    "- [Jupyter](https://jupyter.org/)\n",
    "- [Racket](https://racket-lang.org/)\n",
    "- [Rosette](https://docs.racket-lang.org/rosette-guide/index.html): constraint based solver based on racket\n",
    "\n",
    "Setup (No Docker)\n",
    "1. Download & install [Racket](https://racket-lang.org/), add to path\n",
    "2. Run:\n",
    "    ```sh\n",
    "    # optional but recommended: virtualenv\n",
    "    python3 -m venv .venv\n",
    "    source .venv/bin/activate\n",
    "    pip install -r requirements.txt  # this installs jupyter\n",
    "\n",
    "    # install rosette\n",
    "    raco pkg install rosette\n",
    "\n",
    "    jupyter notebook\n",
    "    ```\n",
    "3. Change environment variables at the top of your target notebook as required, as you may need to add racket to the venv path manually"
   ]
  },
  {
   "cell_type": "code",
   "execution_count": 2,
   "metadata": {},
   "outputs": [],
   "source": [
    "# Julia -- this is for my machine\n",
    "import os\n",
    "\n",
    "# Add /Applications/Racket v8.16/bin to PATH\n",
    "os.environ['PATH'] = '/Applications/Racket v8.16/bin:$PATH'\n",
    "os.environ['DYLD_LIBRARY_PATH'] = '/opt/homebrew/lib:$DYLD_LIBRARY_PATH'"
   ]
  },
  {
   "cell_type": "markdown",
   "metadata": {},
   "source": [
    "#todos\n",
    "\n",
    "Dan --> linear function with examples, verbose mode\n",
    "\n",
    "Julia --> simple arithmetic DSL with `define-grammar` & sketching"
   ]
  },
  {
   "cell_type": "markdown",
   "metadata": {},
   "source": [
    "# Example 1\n",
    "## _Linear Function Synthesis from Examples_\n",
    "\n",
    "Find a function of the form $f(x) = Ax + B$ that satisfies the following examples: \n",
    "- $f(1) = 5$\n",
    "- $f(2) = 7$\n",
    "- $f(3) = 9$\n",
    "- $f(4) = 11$\n",
    "\n",
    "---\n",
    "```racket\n",
    "#lang rosette\n",
    "(require rosette/lib/synthax) ; the package containing `synthesis` syntax\n",
    "\n",
    "; Define a function `f` with unknown coefficients `A` and `B`\n",
    "(define (f x)\n",
    "  (+ (* (?? integer?) x) (?? integer?)))  ; `??` means a hole in the program\n",
    "\n",
    "; Examples (x . y), meaning f(x) = y\n",
    "(define examples\n",
    "  `((1 . 5)  (2 . 7)  (3 . 9)  (4 . 11)))\n",
    "\n",
    "; Synthesis constraint: f(x) must match expected output\n",
    "(define sol\n",
    "  (synthesize\n",
    "   #:forall (list)\n",
    "   #:guarantee\n",
    "   (begin\n",
    "     (for/list ([pair examples])\n",
    "       (assert (= (f (car pair)) (cdr pair)))))))\n",
    "\n",
    "(print-forms sol)\n",
    "```\n"
   ]
  },
  {
   "cell_type": "code",
   "execution_count": 3,
   "metadata": {
    "vscode": {
     "languageId": "shellscript"
    }
   },
   "outputs": [
    {
     "name": "stdout",
     "output_type": "stream",
     "text": [
      "/Users/julianonn/pv703/cs703-rosette/racket/linear-func-synth.rkt:9:0\n",
      "(define (f x) (+ (* 2 x) 3))\n"
     ]
    }
   ],
   "source": [
    "!racket racket/linear-func-synth.rkt"
   ]
  },
  {
   "cell_type": "markdown",
   "metadata": {},
   "source": [
    "__Example 1 - Result:__   $f(x) = 2x + 3$"
   ]
  },
  {
   "cell_type": "code",
   "execution_count": 4,
   "metadata": {
    "vscode": {
     "languageId": "shellscript"
    }
   },
   "outputs": [
    {
     "name": "stdout",
     "output_type": "stream",
     "text": [
      "(set-option :auto-config true)\n",
      "(set-option :produce-unsat-cores false)\n",
      "(set-option :smt.mbqi.max_iterations 10000000)\n",
      "(set-option :smt.relevancy 2)\n",
      "(declare-fun c0 () Int)\n",
      "(declare-fun c1 () Int)\n",
      "(define-fun e2 () Int (+ c0 c1))\n",
      "(define-fun e3 () Bool (= 5 e2))\n",
      "(define-fun e4 () Int (* 2 c0))\n",
      "(define-fun e5 () Int (+ c1 e4))\n",
      "(define-fun e6 () Bool (= 7 e5))\n",
      "(define-fun e7 () Bool (and e3 e6))\n",
      "(define-fun e8 () Int (* 3 c0))\n",
      "(define-fun e9 () Int (+ c1 e8))\n",
      "(define-fun e10 () Bool (= 9 e9))\n",
      "(define-fun e11 () Bool (and e7 e10))\n",
      "(define-fun e12 () Int (* 4 c0))\n",
      "(define-fun e13 () Int (+ c1 e12))\n",
      "(define-fun e14 () Bool (= 11 e13))\n",
      "(define-fun e15 () Bool (and e11 e14))\n",
      "(assert e15)\n",
      "(check-sat)\n",
      "(get-model)\n",
      "(set-option :auto-config true)\n",
      "(set-option :produce-unsat-cores false)\n",
      "(set-option :smt.mbqi.max_iterations 10000000)\n",
      "(set-option :smt.relevancy 2)\n",
      "(reset)\n",
      "(set-option :auto-config true)\n",
      "(set-option :produce-unsat-cores false)\n",
      "(set-option :smt.mbqi.max_iterations 10000000)\n",
      "(set-option :smt.relevancy 2)\n",
      "/Users/julianonn/pv703/cs703-rosette/racket/VERBOSE-linear-func-synth.rkt:9:0\n",
      "(define (f x) (+ (* 2 x) 3))\n"
     ]
    }
   ],
   "source": [
    "# Example 1 -- Verbose Mode\n",
    "!racket racket/VERBOSE-linear-func-synth.rkt"
   ]
  },
  {
   "cell_type": "markdown",
   "metadata": {},
   "source": [
    "---\n",
    "---\n",
    "\n",
    "# Example 2 \n",
    "\n",
    "Let's create a DSL for simple arithmetic over integers."
   ]
  },
  {
   "cell_type": "markdown",
   "metadata": {},
   "source": []
  },
  {
   "cell_type": "markdown",
   "metadata": {},
   "source": []
  },
  {
   "cell_type": "code",
   "execution_count": 11,
   "metadata": {
    "vscode": {
     "languageId": "shellscript"
    }
   },
   "outputs": [
    {
     "name": "stdout",
     "output_type": "stream",
     "text": [
      "/Users/julianonn/pv703/cs703-rosette/racket/arith-dsl-1.rkt:21:0\n",
      "(define (f x) (Add (Mult 2 x) 3))\n"
     ]
    }
   ],
   "source": [
    "!racket racket/arith-dsl-1.rkt"
   ]
  },
  {
   "cell_type": "code",
   "execution_count": null,
   "metadata": {
    "vscode": {
     "languageId": "shellscript"
    }
   },
   "outputs": [
    {
     "name": "stdout",
     "output_type": "stream",
     "text": [
      "application: not a procedure;\n",
      " expected a procedure that can be applied to arguments\n",
      "  given: (unsat)\n",
      "  context...:\n",
      "   /Users/julianonn/Library/Racket/8.16/pkgs/rosette/rosette/query/eval.rkt:19:0: eval-rec\n",
      "   /Users/julianonn/Library/Racket/8.16/pkgs/rosette/rosette/query/eval.rkt:65:0: eval-guarded\n",
      "   /Users/julianonn/Library/Racket/8.16/pkgs/rosette/rosette/query/eval.rkt:19:0: eval-rec\n",
      "   .../match/compiler.rkt:559:40: f98\n",
      "   /Users/julianonn/Library/Racket/8.16/pkgs/rosette/rosette/query/eval.rkt:19:0: eval-rec\n",
      "   body of \"/Users/julianonn/pv703/cs703-rosette/racket/arith-dsl-2-sketch.rkt\"\n"
     ]
    }
   ],
   "source": [
    "!racket racket/arith-dsl-2-sketch.rkt   # this isn't working. TBD on fix"
   ]
  }
 ],
 "metadata": {
  "kernelspec": {
   "display_name": ".venv",
   "language": "python",
   "name": "python3"
  },
  "language_info": {
   "codemirror_mode": {
    "name": "ipython",
    "version": 3
   },
   "file_extension": ".py",
   "mimetype": "text/x-python",
   "name": "python",
   "nbconvert_exporter": "python",
   "pygments_lexer": "ipython3",
   "version": "3.13.0"
  }
 },
 "nbformat": 4,
 "nbformat_minor": 2
}
