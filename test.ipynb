{
 "cells": [
  {
   "cell_type": "markdown",
   "metadata": {
    "vscode": {
     "languageId": "plaintext"
    }
   },
   "source": [
    "Some Markdown"
   ]
  },
  {
   "cell_type": "code",
   "execution_count": 4,
   "metadata": {},
   "outputs": [],
   "source": [
    "# Julia -- this is for my machine\n",
    "import os\n",
    "\n",
    "# Add /Applications/Racket v8.16/bin to PATH\n",
    "os.environ['PATH'] = '/Applications/Racket v8.16/bin:' + os.environ['PATH']\n",
    "os.environ['DYLD_LIBRARY_PATH'] = '/opt/homebrew/lib:' + os.environ['DYLD_LIBRARY_PATH']"
   ]
  },
  {
   "cell_type": "markdown",
   "metadata": {},
   "source": [
    "Maybe we display the contents of a given rkt file here....?"
   ]
  },
  {
   "cell_type": "code",
   "execution_count": 5,
   "metadata": {
    "vscode": {
     "languageId": "shellscript"
    }
   },
   "outputs": [
    {
     "name": "stdout",
     "output_type": "stream",
     "text": [
      "Welcome to Racket v8.16 [cs].\n",
      "> ^C\n",
      "\n",
      "; user break [,bt for context]\n",
      "> "
     ]
    }
   ],
   "source": [
    "!racket "
   ]
  }
 ],
 "metadata": {
  "kernelspec": {
   "display_name": ".venv",
   "language": "python",
   "name": "python3"
  },
  "language_info": {
   "codemirror_mode": {
    "name": "ipython",
    "version": 3
   },
   "file_extension": ".py",
   "mimetype": "text/x-python",
   "name": "python",
   "nbconvert_exporter": "python",
   "pygments_lexer": "ipython3",
   "version": "3.13.0"
  }
 },
 "nbformat": 4,
 "nbformat_minor": 2
}
