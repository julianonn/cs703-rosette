{
 "cells": [
  {
   "cell_type": "markdown",
   "metadata": {
    "vscode": {
     "languageId": "plaintext"
    }
   },
   "source": [
    "Some Markdown"
   ]
  },
  {
   "cell_type": "code",
   "execution_count": 3,
   "metadata": {},
   "outputs": [],
   "source": [
    "# Julia -- this is for my machine\n",
    "import os\n",
    "\n",
    "# Add /Applications/Racket v8.16/bin to PATH\n",
    "os.environ['PATH'] = '/Applications/Racket v8.16/bin:$PATH'\n",
    "os.environ['DYLD_LIBRARY_PATH'] = '/opt/homebrew/lib:$DYLD_LIBRARY_PATH'"
   ]
  },
  {
   "cell_type": "markdown",
   "metadata": {},
   "source": [
    "Maybe we display the contents of a given rkt file here....?"
   ]
  },
  {
   "cell_type": "code",
   "execution_count": 6,
   "metadata": {
    "vscode": {
     "languageId": "shellscript"
    }
   },
   "outputs": [
    {
     "name": "stdout",
     "output_type": "stream",
     "text": [
      "racket/test1.rkt:4:21: ->: unbound identifier\n",
      "  in: ->\n",
      "  location...:\n",
      "   racket/test1.rkt:4:21\n",
      "  context...:\n",
      "   /Users/julianonn/Library/Racket/8.16/pkgs/rosette/rosette/base/form/module.rkt:16:0\n"
     ]
    }
   ],
   "source": [
    "!racket racket/test1.rkt"
   ]
  }
 ],
 "metadata": {
  "kernelspec": {
   "display_name": ".venv",
   "language": "python",
   "name": "python3"
  },
  "language_info": {
   "codemirror_mode": {
    "name": "ipython",
    "version": 3
   },
   "file_extension": ".py",
   "mimetype": "text/x-python",
   "name": "python",
   "nbconvert_exporter": "python",
   "pygments_lexer": "ipython3",
   "version": "3.13.0"
  }
 },
 "nbformat": 4,
 "nbformat_minor": 2
}
