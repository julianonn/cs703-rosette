{
 "cells": [
  {
   "cell_type": "code",
   "execution_count": 1,
   "metadata": {
    "vscode": {
     "languageId": "racket"
    }
   },
   "outputs": [],
   "source": [
    "#lang iracket/lang #:require rosette"
   ]
  },
  {
   "cell_type": "markdown",
   "metadata": {},
   "source": [
    "If the following doesn't work (error: subprocess execute access denied), give z3 execute permissions:"
   ]
  },
  {
   "cell_type": "code",
   "execution_count": 2,
   "metadata": {
    "vscode": {
     "languageId": "racket"
    }
   },
   "outputs": [
    {
     "name": "stderr",
     "output_type": "stream",
     "text": [
      "subprocess: `execute' access denied for /Users/julianonn/Library/Racket/8.16/pkgs/rosette/rosette/solver/smt/../../../bin/z3\n",
      "  context...:\n",
      "/Users/julianonn/Library/Racket/8.16/pkgs/rosette/rosette/solver/smt/server.rkt:58:0: server-start\n",
      "/Users/julianonn/Library/Racket/8.16/pkgs/rosette/rosette/solver/smt/z3.rkt:60:3: solver-clear\n",
      "/Users/julianonn/Library/Racket/8.16/pkgs/rosette/rosette/query/core.rkt:27:0: ∃-solve\n"
     ]
    }
   ],
   "source": [
    "(define-symbolic x integer?)\n",
    "(solve (assert (= x 42)))"
   ]
  },
  {
   "cell_type": "code",
   "execution_count": null,
   "metadata": {
    "vscode": {
     "languageId": "racket"
    }
   },
   "outputs": [],
   "source": []
  },
  {
   "cell_type": "code",
   "execution_count": null,
   "metadata": {
    "vscode": {
     "languageId": "racket"
    }
   },
   "outputs": [],
   "source": []
  }
 ],
 "metadata": {
  "kernelspec": {
   "display_name": "Racket",
   "language": "racket",
   "name": "racket"
  },
  "language_info": {
   "codemirror_mode": "scheme",
   "file_extension": ".rkt",
   "mimetype": "text/x-racket",
   "name": "Racket",
   "pygments_lexer": "racket",
   "version": "8.16"
  }
 },
 "nbformat": 4,
 "nbformat_minor": 4
}
